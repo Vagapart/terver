{
 "cells": [
  {
   "cell_type": "markdown",
   "id": "0bb0052c",
   "metadata": {},
   "source": [
    "# 1. задание"
   ]
  },
  {
   "cell_type": "markdown",
   "id": "d5767c36",
   "metadata": {},
   "source": [
    "1. а. Всего крестовых карт 13. Событие С1 - все четыре карты крестовые может состоятся сочетанием 4 из 13. А событие А - все возможные исходы это сочетание 4 из 52. Таким образом надо Р(С1) / Р(А). \n",
    "13!/(13-4)!*4!  /  (52!/(52-4)!*4!)  = 13 * 12 * 11 * 10 / (4 * 3 * 2 * 1)   /   (52 * 51 * 50 * 49 / (4 * 3 * 2 * 1))  =\n",
    "13 * 12 * 11 * 10 / (52 * 51 * 50 * 49)"
   ]
  },
  {
   "cell_type": "code",
   "execution_count": 1,
   "id": "6bbb3915",
   "metadata": {},
   "outputs": [
    {
     "data": {
      "text/plain": [
       "0.0026410564225690276"
      ]
     },
     "execution_count": 1,
     "metadata": {},
     "output_type": "execute_result"
    }
   ],
   "source": [
    "13 * 12 * 11 * 10 / (52 * 51 * 50 * 49)"
   ]
  },
  {
   "cell_type": "code",
   "execution_count": null,
   "id": "0fe5dfcf",
   "metadata": {},
   "outputs": [],
   "source": [
    "Ответ: 0,0026\n"
   ]
  },
  {
   "cell_type": "markdown",
   "id": "dc457cd0",
   "metadata": {},
   "source": [
    "1.б. Хотябы 1 туз - это 1,2,3,4 туза. Проще всего взять вероятность что туза не будет, и вычесть из единицы.\n",
    "Вероятность что туза не будет С1 - сочетание 48 из 52 делить на количество всех исходов."
   ]
  },
  {
   "cell_type": "markdown",
   "id": "e87838ab",
   "metadata": {},
   "source": [
    "48!/(48-4)!*4!  /  (52!/(52-4)!*4!) = 48 * 47 * 46 * 45 / (52 * 51 * 50 * 49)"
   ]
  },
  {
   "cell_type": "code",
   "execution_count": 3,
   "id": "2e07a807",
   "metadata": {},
   "outputs": [
    {
     "data": {
      "text/plain": [
       "0.7187367254594146"
      ]
     },
     "execution_count": 3,
     "metadata": {},
     "output_type": "execute_result"
    }
   ],
   "source": [
    "48 * 47 * 46 * 45 / (52 * 51 * 50 * 49)"
   ]
  },
  {
   "cell_type": "code",
   "execution_count": 5,
   "id": "9c7cd024",
   "metadata": {},
   "outputs": [
    {
     "data": {
      "text/plain": [
       "0.2813"
      ]
     },
     "execution_count": 5,
     "metadata": {},
     "output_type": "execute_result"
    }
   ],
   "source": [
    "1 - 0.7187"
   ]
  },
  {
   "cell_type": "code",
   "execution_count": null,
   "id": "b73f7a60",
   "metadata": {},
   "outputs": [],
   "source": [
    "Ответ: 0,2813  \n",
    "    "
   ]
  },
  {
   "cell_type": "markdown",
   "id": "fe02497e",
   "metadata": {},
   "source": [
    "# 2. Задание."
   ]
  },
  {
   "cell_type": "markdown",
   "id": "2aa4681a",
   "metadata": {},
   "source": [
    "надо 1 удовл. исход разделить на все возможные сочетания. Все исходы: сочетание 3 из 10"
   ]
  },
  {
   "cell_type": "markdown",
   "id": "9262206c",
   "metadata": {},
   "source": [
    "1 / (10!/(10-3)!*3!) = 1 / (10 * 9 * 8 / (3 * 2 * 1))"
   ]
  },
  {
   "cell_type": "code",
   "execution_count": 8,
   "id": "0c9cf731",
   "metadata": {},
   "outputs": [
    {
     "data": {
      "text/plain": [
       "0.008333333333333333"
      ]
     },
     "execution_count": 8,
     "metadata": {},
     "output_type": "execute_result"
    }
   ],
   "source": [
    "1 / (10 * 9 * 8 / (3 * 2 * 1))"
   ]
  },
  {
   "cell_type": "markdown",
   "id": "fc075564",
   "metadata": {},
   "source": [
    "# 3 задание"
   ]
  },
  {
   "cell_type": "code",
   "execution_count": 9,
   "id": "f36adb88",
   "metadata": {},
   "outputs": [
    {
     "data": {
      "text/plain": [
       "0.1846153846153846"
      ]
     },
     "execution_count": 9,
     "metadata": {},
     "output_type": "execute_result"
    }
   ],
   "source": [
    "9 / 15 * 8 / 14 * 7 / 13"
   ]
  },
  {
   "cell_type": "markdown",
   "id": "1f85a769",
   "metadata": {},
   "source": [
    "# 4 задание"
   ]
  },
  {
   "cell_type": "code",
   "execution_count": 10,
   "id": "10d8eb20",
   "metadata": {},
   "outputs": [
    {
     "data": {
      "text/plain": [
       "0.00010101010101010101"
      ]
     },
     "execution_count": 10,
     "metadata": {},
     "output_type": "execute_result"
    }
   ],
   "source": [
    "1/100 * 1 / 99"
   ]
  },
  {
   "cell_type": "code",
   "execution_count": null,
   "id": "066ff7bd",
   "metadata": {},
   "outputs": [],
   "source": []
  }
 ],
 "metadata": {
  "kernelspec": {
   "display_name": "Python 3",
   "language": "python",
   "name": "python3"
  },
  "language_info": {
   "codemirror_mode": {
    "name": "ipython",
    "version": 3
   },
   "file_extension": ".py",
   "mimetype": "text/x-python",
   "name": "python",
   "nbconvert_exporter": "python",
   "pygments_lexer": "ipython3",
   "version": "3.8.8"
  }
 },
 "nbformat": 4,
 "nbformat_minor": 5
}
